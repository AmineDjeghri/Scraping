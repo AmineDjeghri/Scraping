{
 "cells": [
  {
   "cell_type": "markdown",
   "metadata": {},
   "source": [
    "## Auteur : Amine Djeghri"
   ]
  },
  {
   "cell_type": "code",
   "execution_count": 57,
   "metadata": {},
   "outputs": [],
   "source": [
    "from bs4 import BeautifulSoup\n",
    "import gridfs\n",
    "import time\n",
    "import os\n",
    "import wget\n",
    "import requests\n",
    "import pymongo\n",
    "from selenium.common.exceptions import StaleElementReferenceException\n",
    "from selenium import webdriver\n",
    "import collections\n",
    "from bson.binary import Binary\n",
    "from PIL import Image\n",
    "import io\n",
    "import matplotlib.pyplot as plt\n",
    "\n",
    "# import logins\n",
    "from src.secrets import username, password, mongo_db, mongo_db_collection, mongo_password, mongo_username"
   ]
  },
  {
   "cell_type": "markdown",
   "metadata": {},
   "source": [
    "### MongoDB Setup"
   ]
  },
  {
   "cell_type": "code",
   "execution_count": 39,
   "metadata": {},
   "outputs": [
    {
     "name": "stdout",
     "output_type": "stream",
     "text": [
      "connected to the database\n",
      "The collection exists\n"
     ]
    }
   ],
   "source": [
    "# MongoDB:\n",
    "class MongoDBPipeline(object):\n",
    "    def __init__(self, database_name):\n",
    "        client = pymongo.MongoClient(\n",
    "            \"mongodb+srv://{}:{}@cluster0.kzqwf.mongodb.net/{}?retryWrites=true&w=majority\"\n",
    "                .format(mongo_username, mongo_password, mongo_db)\n",
    "        )\n",
    "        \n",
    "        if database_name in client.list_database_names():\n",
    "            self.db = client.get_database(database_name)\n",
    "            print(\"connected to the database\")\n",
    "        else: \n",
    "            raise Exception(\"Database doesn't exist\")\n",
    "    \n",
    "    def get_collection(self, collection_name):\n",
    "        if collection_name in self.db.list_collection_names():\n",
    "            print(\"The collection exists\")\n",
    "            return self.db.collection_name\n",
    "        else: \n",
    "            raise Exception(\"Collection doesn't exist\")\n",
    "        \n",
    "\n",
    "mongo_pipeline = MongoDBPipeline(\"mongo_fb\")\n",
    "text_collection = mongo_pipeline.get_collection(\"mongo_fb_collection\") # text storage\n",
    "fs_photos = gridfs.GridFS(mongo_pipeline.db,\"images\") # photos storage"
   ]
  },
  {
   "cell_type": "markdown",
   "metadata": {},
   "source": [
    "### Classe de Scraping"
   ]
  },
  {
   "cell_type": "code",
   "execution_count": 54,
   "metadata": {},
   "outputs": [],
   "source": [
    "class FbScraper:\n",
    "    def __init__(self):\n",
    "        \n",
    "        # Options\n",
    "        options = webdriver.FirefoxOptions()\n",
    "        options.set_preference(\"dom.push.enabled\", False)\n",
    "        options.headless = False\n",
    "\n",
    "        # Login\n",
    "        self.driver = webdriver.Firefox(options=options, executable_path=r'C:\\Users\\amine\\Downloads\\geckodriver-v0.29.1-win64\\geckodriver.exe')\n",
    "        url = 'https://www.facebook.com'\n",
    "        self.driver.get(url)\n",
    "        email = self.driver.find_element_by_name(\"email\")\n",
    "        pswrd = self.driver.find_element_by_name(\"pass\")\n",
    "        email.send_keys(username)\n",
    "        pswrd.send_keys(password)\n",
    "        email.submit()\n",
    "\n",
    "\n",
    "        self.WAIT_TIME = 5\n",
    "        time.sleep(self.WAIT_TIME)\n",
    "        \n",
    "    def get_posts(self):\n",
    "        \n",
    "        # I used a static url for this example\n",
    "        url = \"https://www.facebook.com/search/posts/?q=le%20d%C3%A9c%C3%A8s%20du%20pr%C3%A9sident%20Jacques%20Chirac\"\n",
    "        self.driver.get(url)\n",
    "        n_scrolls = 2\n",
    "        key_words= [\"posts\", \"groups\", \"photos\", \"videos\"]\n",
    "        for n_scroll in range(n_scrolls):\n",
    "            self.driver.execute_script(\"window.scrollTo(0, document.body.scrollHeight);\")\n",
    "            time.sleep(2)\n",
    "\n",
    "        links = self.driver.find_elements_by_tag_name('a')\n",
    "        links = [a.get_attribute('href') for a in links ]    \n",
    "        links = [a for a in links if (any(k in str(a) for k in key_words)\n",
    "                                      and \"search\" not in str(a) and len(str(a))>35)]\n",
    "        links = links[:5] # MAX Links = 5\n",
    "\n",
    "        documents =[]\n",
    "        for i in links:\n",
    "            document = {}\n",
    "            self.driver.get(i)\n",
    "            time.sleep(self.WAIT_TIME)\n",
    "            content = self.driver.find_elements_by_css_selector('.d2edcug0.hpfvmrgz.qv66sw1b.c1et5uql.lr9zc1uh.a8c37x1j.keod5gw0.nxhoafnm.aigsh9s9.d3f4x2em.fe6kdd0r.mau55g9w.c8b282yb.iv3no6db.jq4qci2q.a3bd9o3v.knj5qynh.oo9gr5id.hzawbc8m')\n",
    "            print(i) \n",
    "            document[\"url\"] = i\n",
    "            document[\"text\"] = content[0].text # I kept the \\n in the texts\n",
    "            documents.append(document)\n",
    "        \n",
    "        return documents\n",
    "    \n",
    "    def get_images(self, fs):\n",
    "    \n",
    "        url = \"https://www.facebook.com/search/photos/?q=le%20d%C3%A9c%C3%A8s%20du%20pr%C3%A9sident%20Jacques%20Chirac&sde=AbrhaiKXDqqu_fb77YjQsO_CebDCRHPLiNE0cOm1PlgsXxM_Rl_Fm5TYgT0k4dwQkIbOcydO76iajnYVjjHe3n2-SPwYuTn2Ih5DeFi2WhC5ZRIRWoIWOMpWE2CX7FDcGyBdEM99soa0mQ34-FMsP2xFALM-eWnwAThwWrSfUH1Wew\"\n",
    "        self.driver.get(url)\n",
    "        n_scrolls = 2\n",
    "        key_words= [\"photos\"]\n",
    "        \n",
    "        for n_scroll in range(n_scrolls):\n",
    "            self.driver.execute_script(\"window.scrollTo(0, document.body.scrollHeight);\")\n",
    "            time.sleep(self.WAIT_TIME)\n",
    "            \n",
    "        links = self.driver.find_elements_by_tag_name('a')\n",
    "        links = [a.get_attribute('href') for a in links ]    \n",
    "        links = [a for a in links if (any(k in str(a) for k in key_words)\n",
    "                                      and \"search\" not in str(a) and len(str(a))>35)]\n",
    "        links = links[:5] # MAX Photos = 5\n",
    "        \n",
    "        counter = 0\n",
    "        for i in links:\n",
    "            print(counter)\n",
    "            self.driver.get(i)\n",
    "            time.sleep(self.WAIT_TIME)\n",
    "            content = self.driver.find_elements_by_css_selector('.gitj76qy.r9f5tntg.d2edcug0.r0294ipz')\n",
    "            print(i) \n",
    "            img = content[0].get_attribute('src')\n",
    "            print(img)\n",
    "            request = requests.get(img, stream=True)\n",
    "            stored = fs.put(request.raw, filename=\"img_\"+str(counter))\n",
    "            counter += 1\n",
    "        "
   ]
  },
  {
   "cell_type": "code",
   "execution_count": 55,
   "metadata": {},
   "outputs": [],
   "source": [
    "fs = FbScraper()"
   ]
  },
  {
   "cell_type": "markdown",
   "metadata": {},
   "source": [
    "## Test Scraping des posts \n",
    "J'ai réduit le nombre de liens = 5\n",
    "\n",
    "Prend également en compte le texte posté sur les groupes, les photos et les videos"
   ]
  },
  {
   "cell_type": "code",
   "execution_count": 5,
   "metadata": {
    "scrolled": true
   },
   "outputs": [
    {
     "name": "stdout",
     "output_type": "stream",
     "text": [
      "https://www.facebook.com/blm27/posts/2633081830089213\n",
      "https://www.facebook.com/RadioDisneyClubFr/posts/10157564835759776\n",
      "https://www.facebook.com/FRANCE24/posts/10157122109541936\n",
      "https://www.facebook.com/RochKaborePF/posts/552099752262515\n",
      "https://www.facebook.com/JacquelineNizet2017/posts/2528062793907066\n"
     ]
    }
   ],
   "source": [
    "documents = fs.get_posts()"
   ]
  },
  {
   "cell_type": "code",
   "execution_count": 6,
   "metadata": {},
   "outputs": [
    {
     "name": "stdout",
     "output_type": "stream",
     "text": [
      "[{'url': 'https://www.facebook.com/blm27/posts/2633081830089213', 'text': 'C’est dans l’avion de retour de Rodez que j’ai appris le décès du président Jacques Chirac.\\nIl aimait ce département de l’Aveyron, comme il aimait tous les départements ruraux, dont il avait la force et la simplicité.\\nJ’avais 29 ans quand j’ai commencé à travailler à ses côtés et, au moment si triste de sa mort, les souvenirs se bousculent.\\nPourquoi, comme tant de Français, ai-je aimé Jacques Chirac ?\\nJe l’ai aimé pour ses mots lors de mon premier Salon de l’Agriculture en 2009 quand, pressé de questions par les journalistes sur sa passion pour le monde agricole, il avait répondu, déjà fatigué par la maladie : « J’aime l’agriculture, parce que l’agriculture, c’est la vie. »\\nJe l’ai aimé pour sa voix quand, jeune directeur de cabinet de Dominique de Villepin à Matignon, il m’appelait chaque matin à huit heures précises, avec cette intonation si douce et si rauque : « Le Maire ? C’est Chirac. »\\nJ’ai aimé Jacques Chirac pour sa constance à dire non aux extrêmes, à toutes les forces de haine et de mépris qui, elles, hélas, ne meurent jamais.\\nJ’ai aimé Jacques Chirac pour sa détermination à faire obstacle au projet fou de guerre en Irak, en 2003, qui lui a valu tant de reproches et de critiques et à laquelle l’histoire a rendu hommage.\\nJe l’ai vu s’interroger longuement sur un choix qui mettait la France en travers des décisions de son premier allié, les Etats-Unis. Mais jamais il n’a fléchi. Jamais il n’a cédé.\\nJacques Chirac savait que l’humiliation des peuples attise les violences. Il savait que la guerre, dont il détenait le pouvoir comme chef des armées, ne pouvait être que le dernier et ultime recours, quand tous les autres ont été épuisés.\\nJe l’ai aimé simplement pour sa main, qui savait prendre la vôtre avec chaleur.\\nJe l’ai aimé pour cet appel téléphonique un soir de Noël, quand après une année de travail harassante il avait tenu à me joindre dans une vallée des Alpes pour me remercier avec ces mots si simples : « Je suis désolé du temps que j’ai pris à vos enfants. »\\nMaintenant, en juste retour, je voudrais dire à sa femme Bernadette, à sa fille Claude, à l’heure où Jacques Chirac pour la seule fois de sa vie abandonne les Français, que leur père a fait honneur à la France, à sa grandeur, à sa vocation universelle et que je suis fier de l’avoir servi.'}, {'url': 'https://www.facebook.com/RadioDisneyClubFr/posts/10157564835759776', 'text': 'C’est avec une profonde tristesse que nous apprenons aujourd’hui le décès du président Jacques Chirac. Nous rendons hommage aujourd’hui à l’homme qui nous a réuni autour de notre passion pour Disneyland Paris.'}, {'url': 'https://www.facebook.com/FRANCE24/posts/10157122109541936', 'text': ' L’ancien président Jacques Chirac est décédé.\\nSuivez notre édition spéciale en direct \\n https://f24.my/5Z30.f'}, {'url': 'https://www.facebook.com/RochKaborePF/posts/552099752262515', 'text': 'J’ai présenté officiellement ce dimanche, à la résidence de l’ambassadeur de France, mes condoléances et celles du peuple burkinabè à la France, suite au décès de l’ancien président Jacques Chirac. Avec sa disparition, c’est une page du gaullisme qui se referme.'}, {'url': 'https://www.facebook.com/JacquelineNizet2017/posts/2528062793907066', 'text': \"Grande tristesse à l'annonce du décès de l'ancien Président de la République Jacques Chirac, il s'est éteint ce jeudi matin à l'âge de 86 ans . Condoléances à toute sa famille dont je partage la peine. Jacques Chirac était un grand homme d'État, il a incarné la France.\"}]\n"
     ]
    }
   ],
   "source": [
    "print(documents)"
   ]
  },
  {
   "cell_type": "markdown",
   "metadata": {},
   "source": [
    "#### Insertion dans MongoDB"
   ]
  },
  {
   "cell_type": "code",
   "execution_count": 7,
   "metadata": {},
   "outputs": [],
   "source": [
    "x = text_collection.insert_many(documents)"
   ]
  },
  {
   "cell_type": "markdown",
   "metadata": {},
   "source": [
    "#### Vérification de l'insertion "
   ]
  },
  {
   "cell_type": "code",
   "execution_count": 8,
   "metadata": {},
   "outputs": [
    {
     "name": "stdout",
     "output_type": "stream",
     "text": [
      "{'_id': ObjectId('60cccd9ee4101118e222bc03'), 'url': 'https://www.facebook.com/blm27/posts/2633081830089213', 'text': 'C’est dans l’avion de retour de Rodez que j’ai appris le décès du président Jacques Chirac.\\nIl aimait ce département de l’Aveyron, comme il aimait tous les départements ruraux, dont il avait la force et la simplicité.\\nJ’avais 29 ans quand j’ai commencé à travailler à ses côtés et, au moment si triste de sa mort, les souvenirs se bousculent.\\nPourquoi, comme tant de Français, ai-je aimé Jacques Chirac ?\\nJe l’ai aimé pour ses mots lors de mon premier Salon de l’Agriculture en 2009 quand, pressé de questions par les journalistes sur sa passion pour le monde agricole, il avait répondu, déjà fatigué par la maladie : « J’aime l’agriculture, parce que l’agriculture, c’est la vie. »\\nJe l’ai aimé pour sa voix quand, jeune directeur de cabinet de Dominique de Villepin à Matignon, il m’appelait chaque matin à huit heures précises, avec cette intonation si douce et si rauque : « Le Maire ? C’est Chirac. »\\nJ’ai aimé Jacques Chirac pour sa constance à dire non aux extrêmes, à toutes les forces de haine et de mépris qui, elles, hélas, ne meurent jamais.\\nJ’ai aimé Jacques Chirac pour sa détermination à faire obstacle au projet fou de guerre en Irak, en 2003, qui lui a valu tant de reproches et de critiques et à laquelle l’histoire a rendu hommage.\\nJe l’ai vu s’interroger longuement sur un choix qui mettait la France en travers des décisions de son premier allié, les Etats-Unis. Mais jamais il n’a fléchi. Jamais il n’a cédé.\\nJacques Chirac savait que l’humiliation des peuples attise les violences. Il savait que la guerre, dont il détenait le pouvoir comme chef des armées, ne pouvait être que le dernier et ultime recours, quand tous les autres ont été épuisés.\\nJe l’ai aimé simplement pour sa main, qui savait prendre la vôtre avec chaleur.\\nJe l’ai aimé pour cet appel téléphonique un soir de Noël, quand après une année de travail harassante il avait tenu à me joindre dans une vallée des Alpes pour me remercier avec ces mots si simples : « Je suis désolé du temps que j’ai pris à vos enfants. »\\nMaintenant, en juste retour, je voudrais dire à sa femme Bernadette, à sa fille Claude, à l’heure où Jacques Chirac pour la seule fois de sa vie abandonne les Français, que leur père a fait honneur à la France, à sa grandeur, à sa vocation universelle et que je suis fier de l’avoir servi.'}\n",
      "{'_id': ObjectId('60cccd9ee4101118e222bc04'), 'url': 'https://www.facebook.com/RadioDisneyClubFr/posts/10157564835759776', 'text': 'C’est avec une profonde tristesse que nous apprenons aujourd’hui le décès du président Jacques Chirac. Nous rendons hommage aujourd’hui à l’homme qui nous a réuni autour de notre passion pour Disneyland Paris.'}\n",
      "{'_id': ObjectId('60cccd9ee4101118e222bc05'), 'url': 'https://www.facebook.com/FRANCE24/posts/10157122109541936', 'text': ' L’ancien président Jacques Chirac est décédé.\\nSuivez notre édition spéciale en direct \\n https://f24.my/5Z30.f'}\n",
      "{'_id': ObjectId('60cccd9ee4101118e222bc06'), 'url': 'https://www.facebook.com/RochKaborePF/posts/552099752262515', 'text': 'J’ai présenté officiellement ce dimanche, à la résidence de l’ambassadeur de France, mes condoléances et celles du peuple burkinabè à la France, suite au décès de l’ancien président Jacques Chirac. Avec sa disparition, c’est une page du gaullisme qui se referme.'}\n",
      "{'_id': ObjectId('60cccd9ee4101118e222bc07'), 'url': 'https://www.facebook.com/JacquelineNizet2017/posts/2528062793907066', 'text': \"Grande tristesse à l'annonce du décès de l'ancien Président de la République Jacques Chirac, il s'est éteint ce jeudi matin à l'âge de 86 ans . Condoléances à toute sa famille dont je partage la peine. Jacques Chirac était un grand homme d'État, il a incarné la France.\"}\n"
     ]
    }
   ],
   "source": [
    "cursor = text_collection.find({})\n",
    "for document in cursor:\n",
    "      print(document)"
   ]
  },
  {
   "cell_type": "markdown",
   "metadata": {},
   "source": [
    "## Test Scraping des photos\n",
    "J'ai réduit le nombre de liens = 5\n",
    "\n",
    "Pour cette question, je ne sais pas s'il faut sauvegarder les photos dans MongoDB ou dans un système de fichier comme GridFS de MangoDB\n",
    "\n",
    "car:\n",
    "- La lecture/écriture dans une base de données est toujours plus lente qu'un système de fichiers\n",
    "- L'accès aux fichiers nécessite désormais de passer par les couches de base de données au lieu du système de fichier.\n",
    "- Les sauvegardes de bases de données prennent plus de temps et d'espace "
   ]
  },
  {
   "cell_type": "code",
   "execution_count": 56,
   "metadata": {
    "scrolled": true
   },
   "outputs": [
    {
     "name": "stdout",
     "output_type": "stream",
     "text": [
      "0\n",
      "https://www.facebook.com/103819321930269/photos/bc.Abqmt-vJLrpaLxtGopx_ph1-hoCTyBM1ew88eesZDAxomvVXKMTND7Ur7JlmcBxswTvy1mOePMwz2rziqVHx4JNUfOK1_AQ3Ko5ETF7d8FUnONvvK7JWclhxgaBaAy88HjG01pj5fcL7iAyYZFGi771BWpUksCRyvbAMe1ZpUrwnW0rHRq3OhqzfKye8YOMc40E/113500824295452/?opaqueCursor=AbootcCQoeKMy92dW1GJKvr_c7USu8bf3XIluWYWb8fZt94yTJ7ARXOgKo71XXzeI8X0JNOrf16HcnkqaGTobggScQv_s8NGZXlxeDRRYTcnVdVQ5DyT_cqctAVwsSOiLHBocMzWe8IddP9Uuz2BGqAjw5fUaqJMV1ovhl_H8DAPd8IcP2MDwsroN5ufqi5n4jvzEZ2fLojT64ubzpALAJ8C51QQMeRi0DX67Ys8T8IpCDOwTLFXUl_BWNo1v961FYot06cBSE9iIJCGZ1Xi53KTELBG9xjzrHW5pGn2tdswQG-Sli7bYbmKyrkYhmcgHRsmTd4M1hZpCwSB-KpQ9IzTyhjIqd9bL1OL8NtaHzYBJo2kEzNRWWzh4KW3Cznq_n6cv4rvNFiRX2xYDj1zOrQ96DDutR4-anpzNXV_QHOc-Bcth4yM_qq3MfHv3snrf3aCijd6KQff2LdNm9_fH4wwFhseWwEBIMUKJ1w2iOOFrsUo96UKdsEIxnK6hTA7b_qLVLu1-yzUSnXMBb1VQAdksy1s_5PvZ0T_cmvH2AariXo9udu4vFHNLot71ljC5io\n",
      "https://scontent-cdg2-1.xx.fbcdn.net/v/t1.6435-9/201915711_113500827628785_7971608478178500720_n.jpg?_nc_cat=104&ccb=1-3&_nc_sid=8bfeb9&_nc_ohc=q39JPHOhGC8AX_Iw0EG&_nc_ht=scontent-cdg2-1.xx&oh=9f08bcc8f1b671600de8c63cf46ae4d5&oe=60D0F061\n",
      "1\n",
      "https://www.facebook.com/generationblaisecompaore/photos/bc.AbqTp4crgYB-ij7pRKmS_HmLMxjadS65s5AwWD7Ft5gQqK9AtHuy1NntAtUnAieFk1i3nUvH5dauSQmeRTDhGNut-ujIZ-t-81dKz03vreuEBiholxsyWIj_N5uk8NO2uLSZd9Qpmh61HancgtdH7ZLa8pzrFBU2Jge055cgmmuH2bVxS3qjehh-sfJgG_ei2Eg/2104710199832243/?opaqueCursor=AbpADqLLtXIpjgwiTVL_bdnpWmqbp0URwoKM6WckrQoU8sV7gMKZfIdTawIeJxKq3sdecLQlX-6M64oOvfXNU6CwmyI_38_KTSDyu5fHfZrY734t8YH2uwIpX7FeeJHuugc95ulNeBitMm3APNkrlVRlDN7Uabi7nBWsQTxSuEe7f2etfgM8hQiGL5i4LyHPjJ9xnr85N6fbwRcU20DSbqq7CYQgiQUpysuvsz-7wTNExmpRZt7HefgTyThXQ7PHnapIgDa1fzHgkcoEDLy8DzBCbnZedKaBBvp_naFNWYehC_YASalbRUinZcOR2Ht22HvEvIZMUJuME89-OqIEvkvCx-9dHyJHGJS8RO4qkdrFxR2h96BUgQd2wNtglZrbCosAjuE-4abSZU-3_PfeRxxTj4-1nrIVt616QxkgLqWjaEY81ALWakFY5ZLvHgqbxBNMOP-0ekcR1TR4QwHx7tN-Te8NPc_lY5aIvyu9Fg-ZzpXhXK-SkKy-_JZPTmdIGELOVMLr-cMQv5n8ypwG27AyuTBn8wE94ZGLwts3A091vw\n",
      "https://scontent-cdg2-1.xx.fbcdn.net/v/t1.6435-9/71405161_2104710203165576_5820139375702310912_n.jpg?_nc_cat=100&ccb=1-3&_nc_sid=8bfeb9&_nc_ohc=uFWkLXjqkN8AX9A2rtS&_nc_ht=scontent-cdg2-1.xx&oh=514e5481784cfadc68a211818062c29d&oe=60D12C11\n",
      "2\n",
      "https://www.facebook.com/109675663903527/photos/bc.Abqw4iHbWmhYcIppOgziP_tzTjsKTl7AcfaOv2N4N9PNxM1U6xPomPWTZ5os0K7ElPi754gMZ9UsLciP9fySXrJRSqB8MpLHTlTAITISJEoQvy4J5JQZwpqNXWXgyTNGcXznaGKEgulehed2h9X4gxMJOmc4_Ko67qMxIaUX6xSc4V3UQBMYlorvCpSOE9dj4Mw/348252550045836/?opaqueCursor=AbqeTbtqWQzrPmhlHfuUl0B4l73pxlreUsxcGWTv63R1gAEu7V8cKYQwp19eQh9Af_n3dAPNLre7bBiBoQxykVdsE1ytKgjbQV6wvCbVvadiwDcQd-7ysDAXRCSzL6xqHYrFy2hRM8oLEIpasEbKqPzvxzt3TPDGAFwEe50At7M96ypV4ad5_7FXX7p383wxn4L6TuIh05eCb25OYJsuCwaad2wEDznT2jBfLmOKmFrHqWZr7Sj-lbuVy160ylfnyqhdhFIRrQBpzzxVjM_z9KmWDECjdlN3elp3NJGys-P1HrlfXxmGtkB1fcsJuWy2m4kLlF9bcyS5ALLaYAwD_Hd3wR_loq-jJ5DB9iVGy5wNPwYRJFhXp_PHBLFRfw8h53NQ7dgZKhDKM29U14dRIx3bjc-N2HVwVSdjHngXmUzM2yvfDXtdbuahKUEOfJWi9pnF_kGpQsgBh6xraP0dgq6P0OCL_x_SQPx17SJhmF1lQp4F6QpSb5IsVlBaOrVxuq5vbLL-vx4T9mgqt-imCvhs\n",
      "https://scontent-cdt1-1.xx.fbcdn.net/v/t1.6435-9/201776034_348252553379169_3682382319500120110_n.jpg?_nc_cat=110&ccb=1-3&_nc_sid=825194&_nc_ohc=W3LIKLI_l6YAX826wVS&_nc_ht=scontent-cdt1-1.xx&oh=9b38de88e8eec74ab59e3899ade19cbd&oe=60D1D96B\n",
      "3\n",
      "https://www.facebook.com/TPMPTV/photos/bc.AbqXe3JrVv9BTfJ-29HR-aP3P3Zak_yVA1NKghbh22ewn0T_NaoFZkqsO6Cz3OYhMsisY69TqZ1xsgux8SJz6jco9LY4P48Pi0GVgZ4kP7DIu4KfnrHja-oJsSwPOWkPdwF86Q9PahL-WnrYGxWaUsXxbNAfNM14N5Y3QHU7ZW9Z-nu-NwpLVUI98lbC1PkoGAc/2862974450408875/?opaqueCursor=AbrscZe9tYabBVPR7-K28jzbHPXPX_1xYnXlyX4FSCPNxBdH53IXS0tUgY8hcgiT8QQem1v_2FYjsjQJLgKLui8a5Bz2AAnnSMHaRpZy3oUllhJQzwkIXmO--0gafJ1em50RMYKgeiO_ow6Sm6knBRYs_NWGkYKPiCxCStSwOFRQE8kpBMQ3VgJMG6YK8-i1QbVHPD8gB43FHI2JLpOxFm3DYSplt9xIkjW6Sn2VheIzlgE7GPuaKNsObuDaIgLAVwjl0CGs2xvc-PSMvXLhqAlt7bzUgwlguLtMg1JlkR5x_YXIszGw_bcboeq5LaqnsM8Qh7l_JdHnM3uW_QknRywYa-d_IGLQHmZwZ-zkZPes8qhst8vPgGE-ZZcViWug243073y5oqKi0KMHCs8vr0oZ-1VaOx5TANO7E2OBTR5Wdc5drEgUQ0lWRVd-CZBsjN-Eoa0ez_Jf7TvGm1JE8xeZZEdQQHSjFA3_aMUMcoHsSpdtPow6z1Usx5b9k-N0GO-r3lrVipXB5_w3Czu-akgl\n",
      "https://scontent-cdt1-1.xx.fbcdn.net/v/t1.6435-9/71209073_2862974453742208_8306347346078203904_n.jpg?_nc_cat=103&ccb=1-3&_nc_sid=730e14&_nc_ohc=v9GLQ97_VCwAX8DPGZa&_nc_ht=scontent-cdt1-1.xx&oh=31cb63761e2bfea0356731117d1708b4&oe=60D14546\n",
      "4\n",
      "https://www.facebook.com/RadioDisneyClubFr/photos/bc.AbquEN9oVbqccm1Y_FIkdUNfy5eZOlk1doSZcaQFgT6Bfl_jFUrFIBWiHiIlM7Y-3OTx1SburqZAw9CN1q-Qq78qCIQWV67MGFxmP6wUEA9RELZlJQN8kXqeK0HUQ9Mzo7d2Ejsv-FM-X68JW7RIQZ9Zgdj1ZGTBYOKK9s8aacdMWpkIYOKooA2-kJ-VL0PW9V0/10157564835714776/?opaqueCursor=Abpgr299q5y4bl7mzG-NHjuoA-BHMKPOG7uBMhVyL3RWcRudFg3DW9Xbm3OSn1s1HO_25DN345MuWMcNVylGDuHmpYd0wAD0c9J4jxqyCnOBqrcIxS4G6Nob9tJYxPBjYtp_Vd8_4QrPkX4YE9STq-DCVqMzHWXD9f2QC7Wk-GyidFoYdH5Pe7wIBK45zj4gJgN79xFNlQZcuK7C3QfprFQwo7JKXB0K1ZNyBqPmGULaX1b8B1nkti2HfWJ8vjz07AD_Ki16lSWLLvQOHfx0i75k9uJi3dL6wjMPJRjZp9hSB_mbEaral-qEswTsB9VmMU51bm4zGI07u6gXF-CFyb7Coc0t0IJ4XKVQ7Am8FbJjvti0N_mNOINR2BaQigw61G9ZMVm3U3bT2v38gLnY1PMn7VXOBNuFFQelIvxCmZi3dFuukNRJprGJ2gKR9oxm5JdxyA7OoWik5u8r4T8c8E2JFuOY8mgDBhyU7AGnq2F-Hg\n",
      "https://scontent-cdg2-1.xx.fbcdn.net/v/t1.6435-9/71219800_10157564835719776_8872926435195486208_n.jpg?_nc_cat=104&ccb=1-3&_nc_sid=8bfeb9&_nc_ohc=YXh0Rg3Kiz8AX-nDlaB&_nc_ht=scontent-cdg2-1.xx&oh=97da94a6e56d84cde91f9ce2bdb4ba56&oe=60D1DA05\n"
     ]
    }
   ],
   "source": [
    "fs.get_images(fs_photos)"
   ]
  },
  {
   "cell_type": "markdown",
   "metadata": {},
   "source": [
    "### Affichage de l'image"
   ]
  },
  {
   "cell_type": "code",
   "execution_count": 61,
   "metadata": {},
   "outputs": [
    {
     "data": {
      "image/png": "[encoded data removed]",
      "text/plain": [
       "<Figure size 432x288 with 1 Axes>"
      ]
     },
     "metadata": {
      "needs_background": "light"
     },
     "output_type": "display_data"
    }
   ],
   "source": [
    "file = fs_photos.find_one()\n",
    "image = file.read()\n",
    "\n",
    "pil_img = Image.open(file)\n",
    "plt.imshow(pil_img)\n",
    "plt.show()"
   ]
  },
  {
   "cell_type": "markdown",
   "metadata": {},
   "source": [
    "### Améliorations:\n",
    "\n",
    "Afin d'optimiser la ram, nous pouvons scrapper les textes et les sauvegarder en continue sur MongoDB comme nous l'avions fait avec les photos. Nous pouvons aussi rajouter la possibilité de rentrer un texte au lieu des URLs statiques."
   ]
  },
  {
   "cell_type": "code",
   "execution_count": null,
   "metadata": {},
   "outputs": [],
   "source": []
  }
 ],
 "metadata": {
  "kernelspec": {
   "display_name": "Python 3",
   "language": "python",
   "name": "python3"
  },
  "language_info": {
   "codemirror_mode": {
    "name": "ipython",
    "version": 3
   },
   "file_extension": ".py",
   "mimetype": "text/x-python",
   "name": "python",
   "nbconvert_exporter": "python",
   "pygments_lexer": "ipython3",
   "version": "3.8.5"
  }
 },
 "nbformat": 4,
 "nbformat_minor": 4
}
